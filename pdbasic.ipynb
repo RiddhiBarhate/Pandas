{
 "cells": [
  {
   "cell_type": "code",
   "execution_count": 2,
   "metadata": {},
   "outputs": [
    {
     "name": "stdout",
     "output_type": "stream",
     "text": [
      "0    1\n",
      "1    2\n",
      "2    3\n",
      "3    4\n",
      "4    5\n",
      "dtype: int64\n",
      "<class 'pandas.core.series.Series'>\n",
      "3\n"
     ]
    },
    {
     "name": "stderr",
     "output_type": "stream",
     "text": [
      "C:\\Users\\Riddhi\\AppData\\Local\\Temp\\ipykernel_2440\\485943888.py:2: DeprecationWarning: \n",
      "Pyarrow will become a required dependency of pandas in the next major release of pandas (pandas 3.0),\n",
      "(to allow more performant data types, such as the Arrow string type, and better interoperability with other libraries)\n",
      "but was not found to be installed on your system.\n",
      "If this would cause problems for you,\n",
      "please provide us feedback at https://github.com/pandas-dev/pandas/issues/54466\n",
      "        \n",
      "  import pandas as pd\n"
     ]
    }
   ],
   "source": [
    "#pandas are used for working with data sets (data analysis)\n",
    "import pandas as pd\n",
    "x = [1,2,3,4,5]\n",
    "var = pd.Series(x)\n",
    "print(var)\n",
    "print(type(var))\n",
    "print(var[2])"
   ]
  },
  {
   "cell_type": "code",
   "execution_count": 3,
   "metadata": {},
   "outputs": [
    {
     "name": "stdout",
     "output_type": "stream",
     "text": [
      "a    1.0\n",
      "b    2.0\n",
      "c    3.0\n",
      "Name: python, dtype: float32\n"
     ]
    }
   ],
   "source": [
    "x = [1,2,3]\n",
    "var = pd.Series(x,index=['a','b','c'],dtype=\"f\",name=\"python\")\n",
    "print(var)"
   ]
  },
  {
   "cell_type": "code",
   "execution_count": 4,
   "metadata": {},
   "outputs": [
    {
     "name": "stdout",
     "output_type": "stream",
     "text": [
      "name    [python, c, c++, java]\n",
      "rank              [1, 2, 3, 4]\n",
      "dtype: object\n"
     ]
    }
   ],
   "source": [
    "dic = {\"name\":['python','c','c++','java'],\"rank\":[1,2,3,4]}\n",
    "var = pd.Series(dic)\n",
    "print(var)"
   ]
  },
  {
   "cell_type": "code",
   "execution_count": 5,
   "metadata": {},
   "outputs": [
    {
     "name": "stdout",
     "output_type": "stream",
     "text": [
      "1    12\n",
      "2    12\n",
      "3    12\n",
      "4    12\n",
      "dtype: int64\n",
      "\n",
      "1    12\n",
      "2    12\n",
      "dtype: int64\n",
      "\n",
      "1    24.0\n",
      "2    24.0\n",
      "3     NaN\n",
      "4     NaN\n",
      "dtype: float64\n"
     ]
    }
   ],
   "source": [
    "s1 = pd.Series(12,index=[1,2,3,4])\n",
    "print(s1)\n",
    "print()\n",
    "s2 = pd.Series(12,index=[1,2])\n",
    "print(s2)\n",
    "print()\n",
    "print(s1+s2)"
   ]
  },
  {
   "cell_type": "code",
   "execution_count": 6,
   "metadata": {},
   "outputs": [
    {
     "name": "stdout",
     "output_type": "stream",
     "text": [
      "   0\n",
      "0  1\n",
      "1  2\n",
      "2  3\n",
      "3  4\n",
      "4  5\n",
      "<class 'pandas.core.frame.DataFrame'>\n"
     ]
    }
   ],
   "source": [
    "x = [1,2,3,4,5]\n",
    "var = pd.DataFrame(x)\n",
    "print(var)\n",
    "print(type(var))"
   ]
  },
  {
   "cell_type": "code",
   "execution_count": 7,
   "metadata": {},
   "outputs": [
    {
     "name": "stdout",
     "output_type": "stream",
     "text": [
      "     name  rank\n",
      "0  python     1\n",
      "1       c     2\n",
      "2     c++     3\n",
      "3    java     4\n",
      "\n",
      "     name\n",
      "0  python\n",
      "1       c\n",
      "2     c++\n",
      "3    java\n",
      "\n",
      "Printing particular data:  c++\n"
     ]
    }
   ],
   "source": [
    "dic = {\"name\":['python','c','c++','java'],\"rank\":[1,2,3,4]}\n",
    "var = pd.DataFrame(dic)\n",
    "print(var)\n",
    "print()\n",
    "var1 = pd.DataFrame(dic,columns=[\"name\"])\n",
    "print(var1)\n",
    "print()\n",
    "print(\"Printing particular data: \",var[\"name\"][2])"
   ]
  },
  {
   "cell_type": "code",
   "execution_count": 8,
   "metadata": {},
   "outputs": [
    {
     "name": "stdout",
     "output_type": "stream",
     "text": [
      "   0  1  2  3\n",
      "0  1  2  3  4\n",
      "1  5  6  7  8\n",
      "<class 'pandas.core.frame.DataFrame'>\n"
     ]
    }
   ],
   "source": [
    "l = [[1,2,3,4],[5,6,7,8]]\n",
    "var = pd.DataFrame(l)\n",
    "print(var)\n",
    "print(type(var))"
   ]
  },
  {
   "cell_type": "code",
   "execution_count": 9,
   "metadata": {},
   "outputs": [
    {
     "name": "stdout",
     "output_type": "stream",
     "text": [
      "   s  r\n",
      "0  1  1\n",
      "1  2  2\n",
      "2  3  3\n",
      "3  4  4\n"
     ]
    }
   ],
   "source": [
    "sr = {\"s\":pd.Series([1,2,3,4]),\"r\":pd.Series([1,2,3,4])}\n",
    "print(pd.DataFrame(sr))"
   ]
  },
  {
   "cell_type": "code",
   "execution_count": 10,
   "metadata": {},
   "outputs": [
    {
     "name": "stdout",
     "output_type": "stream",
     "text": [
      "   A  B   C\n",
      "0  1  5   6\n",
      "1  2  6   8\n",
      "2  3  7  10\n",
      "3  4  8  12\n"
     ]
    }
   ],
   "source": [
    "var = pd.DataFrame({\"A\":[1,2,3,4],\"B\":[5,6,7,8]})\n",
    "var[\"C\"] = var[\"A\"] + var[\"B\"]\n",
    "print(var)"
   ]
  },
  {
   "cell_type": "code",
   "execution_count": 11,
   "metadata": {},
   "outputs": [
    {
     "name": "stdout",
     "output_type": "stream",
     "text": [
      "   A  B   C  Python\n",
      "0  1  5   6    True\n",
      "1  2  6   8    True\n",
      "2  3  7  10   False\n",
      "3  4  8  12   False\n"
     ]
    }
   ],
   "source": [
    "var[\"Python\"] = var[\"A\"] < 3\n",
    "print(var)"
   ]
  },
  {
   "cell_type": "code",
   "execution_count": 12,
   "metadata": {},
   "outputs": [
    {
     "name": "stdout",
     "output_type": "stream",
     "text": [
      "   A python  B\n",
      "0  1      a  5\n",
      "1  2      b  6\n",
      "2  3      c  7\n",
      "3  4      d  8\n"
     ]
    }
   ],
   "source": [
    "var = pd.DataFrame({\"A\":[1,2,3,4],\"B\":[5,6,7,8]})\n",
    "var.insert(1,\"python\",[\"a\",\"b\",\"c\",\"d\"])\n",
    "print(var)"
   ]
  },
  {
   "cell_type": "code",
   "execution_count": 13,
   "metadata": {},
   "outputs": [
    {
     "name": "stdout",
     "output_type": "stream",
     "text": [
      "   A  B  num\n",
      "0  1  5  1.0\n",
      "1  2  6  2.0\n",
      "2  3  7  NaN\n",
      "3  4  8  NaN\n"
     ]
    }
   ],
   "source": [
    "var1 = pd.DataFrame({\"A\":[1,2,3,4],\"B\":[5,6,7,8]})\n",
    "var1[\"num\"] = var1[\"A\"][:2]\n",
    "print(var1)"
   ]
  },
  {
   "cell_type": "code",
   "execution_count": 14,
   "metadata": {},
   "outputs": [
    {
     "name": "stdout",
     "output_type": "stream",
     "text": [
      "   A  num\n",
      "0  1  1.0\n",
      "1  2  2.0\n",
      "2  3  NaN\n",
      "3  4  NaN\n"
     ]
    }
   ],
   "source": [
    "var1.pop(\"B\")\n",
    "print(var1)"
   ]
  },
  {
   "cell_type": "code",
   "execution_count": 15,
   "metadata": {},
   "outputs": [
    {
     "name": "stdout",
     "output_type": "stream",
     "text": [
      "   A\n",
      "0  1\n",
      "1  2\n",
      "2  3\n",
      "3  4\n"
     ]
    }
   ],
   "source": [
    "del var1[\"num\"]\n",
    "print(var1)"
   ]
  },
  {
   "cell_type": "code",
   "execution_count": 16,
   "metadata": {},
   "outputs": [
    {
     "name": "stdout",
     "output_type": "stream",
     "text": [
      "   a  b  c\n",
      "0  1  1  1\n",
      "1  2  2  2\n",
      "2  3  3  3\n",
      "3  4  4  4\n",
      "4  5  5  5\n"
     ]
    }
   ],
   "source": [
    "dic = {\"a\":[1,2,3,4,5],\"b\":[1,2,3,4,5],\"c\":[1,2,3,4,5]}\n",
    "x = pd.DataFrame(dic)\n",
    "print(x)\n",
    "#x.to_csv(\"text_new.csv\")\n",
    "x.to_csv(\"text_new1.csv\",index=False,header=[\"First\",\"Second\",\"Third\"])"
   ]
  },
  {
   "cell_type": "code",
   "execution_count": 17,
   "metadata": {},
   "outputs": [
    {
     "name": "stdout",
     "output_type": "stream",
     "text": [
      "   Unnamed: 0  a  b  c\n",
      "0           0  1  1  1\n",
      "1           1  2  2  2\n",
      "2           2  3  3  3\n",
      "3           3  4  4  4\n",
      "4           4  5  5  5\n"
     ]
    }
   ],
   "source": [
    "csv_1 = pd.read_csv(\"D:\\\\Data Analytst\\pandas\\\\text_new.csv\")\n",
    "print(csv_1)"
   ]
  },
  {
   "cell_type": "code",
   "execution_count": 18,
   "metadata": {},
   "outputs": [
    {
     "name": "stdout",
     "output_type": "stream",
     "text": [
      "   Unnamed: 0  a  b  c\n",
      "0           0  1  1  1\n",
      "1           1  2  2  2\n",
      "2           2  3  3  3\n",
      "\n",
      "   a  b\n",
      "0  1  1\n",
      "1  2  2\n",
      "2  3  3\n",
      "3  4  4\n",
      "4  5  5\n"
     ]
    }
   ],
   "source": [
    "csv_1 = pd.read_csv(\"D:\\\\Data Analytst\\pandas\\\\text_new.csv\",nrows=3)\n",
    "print(csv_1)\n",
    "print()\n",
    "csv_2 = pd.read_csv(\"D:\\\\Data Analytst\\pandas\\\\text_new.csv\",usecols=[\"a\",\"b\"])\n",
    "print(csv_2)"
   ]
  },
  {
   "cell_type": "code",
   "execution_count": 19,
   "metadata": {},
   "outputs": [
    {
     "name": "stdout",
     "output_type": "stream",
     "text": [
      "   Unnamed: 0  a  b  c\n",
      "0           0  1  1  1\n",
      "1           2  3  3  3\n",
      "2           3  4  4  4\n",
      "3           4  5  5  5\n",
      "\n",
      "   Unnamed: 0  b  c\n",
      "a                  \n",
      "1           0  1  1\n",
      "2           1  2  2\n",
      "3           2  3  3\n",
      "4           3  4  4\n",
      "5           4  5  5\n",
      "\n",
      "    col1 col2 col3\n",
      "NaN    a    b    c\n",
      "0.0    1    1    1\n",
      "1.0    2    2    2\n",
      "2.0    3    3    3\n",
      "3.0    4    4    4\n",
      "4.0    5    5    5\n"
     ]
    }
   ],
   "source": [
    "csv_3 = pd.read_csv(\"D:\\\\Data Analytst\\pandas\\\\text_new.csv\",skiprows=[2])\n",
    "print(csv_3)\n",
    "print()\n",
    "csv_4 = pd.read_csv(\"D:\\\\Data Analytst\\pandas\\\\text_new.csv\", index_col=[\"a\"])\n",
    "print(csv_4)\n",
    "print()\n",
    "csv_5 = pd.read_csv(\"D:\\\\Data Analytst\\pandas\\\\text_new.csv\",names=[\"col1\",\"col2\",\"col3\"])\n",
    "print(csv_5)"
   ]
  },
  {
   "cell_type": "code",
   "execution_count": 20,
   "metadata": {},
   "outputs": [
    {
     "name": "stdout",
     "output_type": "stream",
     "text": [
      "   First  Second  Third\n",
      "0      1       1      1\n",
      "1      2       2      2\n",
      "2      3       3      3\n",
      "3      4       4      4\n",
      "4      5       5      5\n",
      "\n",
      "RangeIndex(start=0, stop=5, step=1)\n",
      "\n",
      "Index(['First', 'Second', 'Third'], dtype='object')\n",
      "\n",
      "          First    Second     Third\n",
      "count  5.000000  5.000000  5.000000\n",
      "mean   3.000000  3.000000  3.000000\n",
      "std    1.581139  1.581139  1.581139\n",
      "min    1.000000  1.000000  1.000000\n",
      "25%    2.000000  2.000000  2.000000\n",
      "50%    3.000000  3.000000  3.000000\n",
      "75%    4.000000  4.000000  4.000000\n",
      "max    5.000000  5.000000  5.000000\n"
     ]
    }
   ],
   "source": [
    "csvfile_1 = pd.read_csv(\"D:\\\\Data Analytst\\pandas\\\\text_new1.csv\")\n",
    "print(csvfile_1)\n",
    "print()\n",
    "print(csvfile_1.index)\n",
    "print()\n",
    "print(csvfile_1.columns)\n",
    "print()\n",
    "print(csvfile_1.describe())"
   ]
  },
  {
   "cell_type": "code",
   "execution_count": 21,
   "metadata": {},
   "outputs": [
    {
     "name": "stdout",
     "output_type": "stream",
     "text": [
      "   First  Second  Third\n",
      "0      1       1      1\n",
      "1      2       2      2\n",
      "\n",
      "   First  Second  Third\n",
      "3      4       4      4\n",
      "4      5       5      5\n",
      "\n",
      "   First  Second  Third\n",
      "1      2       2      2\n",
      "2      3       3      3\n",
      "\n",
      "[[1 1 1]\n",
      " [2 2 2]\n",
      " [3 3 3]\n",
      " [4 4 4]\n",
      " [5 5 5]]\n"
     ]
    }
   ],
   "source": [
    "print(csvfile_1.head(2))\n",
    "print()\n",
    "print(csvfile_1.tail(2))\n",
    "print()\n",
    "print(csvfile_1[1:3])\n",
    "print()\n",
    "print(csvfile_1.to_numpy())"
   ]
  },
  {
   "cell_type": "code",
   "execution_count": 22,
   "metadata": {},
   "outputs": [
    {
     "name": "stdout",
     "output_type": "stream",
     "text": [
      "[[1 1 1]\n",
      " [2 2 2]\n",
      " [3 3 3]\n",
      " [4 4 4]\n",
      " [5 5 5]]\n"
     ]
    }
   ],
   "source": [
    "import numpy as np\n",
    "v = np.asarray(csvfile_1)\n",
    "print(v)"
   ]
  },
  {
   "cell_type": "code",
   "execution_count": 23,
   "metadata": {},
   "outputs": [
    {
     "data": {
      "text/html": [
       "<div>\n",
       "<style scoped>\n",
       "    .dataframe tbody tr th:only-of-type {\n",
       "        vertical-align: middle;\n",
       "    }\n",
       "\n",
       "    .dataframe tbody tr th {\n",
       "        vertical-align: top;\n",
       "    }\n",
       "\n",
       "    .dataframe thead th {\n",
       "        text-align: right;\n",
       "    }\n",
       "</style>\n",
       "<table border=\"1\" class=\"dataframe\">\n",
       "  <thead>\n",
       "    <tr style=\"text-align: right;\">\n",
       "      <th></th>\n",
       "      <th>First</th>\n",
       "      <th>Second</th>\n",
       "      <th>Third</th>\n",
       "    </tr>\n",
       "  </thead>\n",
       "  <tbody>\n",
       "    <tr>\n",
       "      <th>4</th>\n",
       "      <td>5</td>\n",
       "      <td>5</td>\n",
       "      <td>5</td>\n",
       "    </tr>\n",
       "    <tr>\n",
       "      <th>3</th>\n",
       "      <td>4</td>\n",
       "      <td>4</td>\n",
       "      <td>4</td>\n",
       "    </tr>\n",
       "    <tr>\n",
       "      <th>2</th>\n",
       "      <td>3</td>\n",
       "      <td>3</td>\n",
       "      <td>3</td>\n",
       "    </tr>\n",
       "    <tr>\n",
       "      <th>1</th>\n",
       "      <td>2</td>\n",
       "      <td>2</td>\n",
       "      <td>2</td>\n",
       "    </tr>\n",
       "    <tr>\n",
       "      <th>0</th>\n",
       "      <td>1</td>\n",
       "      <td>1</td>\n",
       "      <td>1</td>\n",
       "    </tr>\n",
       "  </tbody>\n",
       "</table>\n",
       "</div>"
      ],
      "text/plain": [
       "   First  Second  Third\n",
       "4      5       5      5\n",
       "3      4       4      4\n",
       "2      3       3      3\n",
       "1      2       2      2\n",
       "0      1       1      1"
      ]
     },
     "execution_count": 23,
     "metadata": {},
     "output_type": "execute_result"
    }
   ],
   "source": [
    "csvfile_1.sort_index(axis=0, ascending=False)"
   ]
  },
  {
   "cell_type": "code",
   "execution_count": 24,
   "metadata": {},
   "outputs": [
    {
     "name": "stdout",
     "output_type": "stream",
     "text": [
      "    First  Second  Third\n",
      "0  Python       1      1\n",
      "1       2       2      2\n",
      "2       3       3      3\n",
      "3       4       4      4\n",
      "4       5       5      5\n",
      "\n"
     ]
    },
    {
     "name": "stderr",
     "output_type": "stream",
     "text": [
      "C:\\Users\\Riddhi\\AppData\\Local\\Temp\\ipykernel_2440\\1499672123.py:1: FutureWarning: Setting an item of incompatible dtype is deprecated and will raise an error in a future version of pandas. Value 'Python' has dtype incompatible with int64, please explicitly cast to a compatible dtype first.\n",
      "  csvfile_1.loc[0,\"First\"] = \"Python\"\n"
     ]
    },
    {
     "data": {
      "text/html": [
       "<div>\n",
       "<style scoped>\n",
       "    .dataframe tbody tr th:only-of-type {\n",
       "        vertical-align: middle;\n",
       "    }\n",
       "\n",
       "    .dataframe tbody tr th {\n",
       "        vertical-align: top;\n",
       "    }\n",
       "\n",
       "    .dataframe thead th {\n",
       "        text-align: right;\n",
       "    }\n",
       "</style>\n",
       "<table border=\"1\" class=\"dataframe\">\n",
       "  <thead>\n",
       "    <tr style=\"text-align: right;\">\n",
       "      <th></th>\n",
       "      <th>First</th>\n",
       "      <th>Second</th>\n",
       "    </tr>\n",
       "  </thead>\n",
       "  <tbody>\n",
       "    <tr>\n",
       "      <th>1</th>\n",
       "      <td>2</td>\n",
       "      <td>2</td>\n",
       "    </tr>\n",
       "    <tr>\n",
       "      <th>2</th>\n",
       "      <td>3</td>\n",
       "      <td>3</td>\n",
       "    </tr>\n",
       "  </tbody>\n",
       "</table>\n",
       "</div>"
      ],
      "text/plain": [
       "  First  Second\n",
       "1     2       2\n",
       "2     3       3"
      ]
     },
     "execution_count": 24,
     "metadata": {},
     "output_type": "execute_result"
    }
   ],
   "source": [
    "csvfile_1.loc[0,\"First\"] = \"Python\"\n",
    "print(csvfile_1)\n",
    "print()\n",
    "csvfile_1.loc[[1,2],[\"First\",\"Second\"]]\n"
   ]
  },
  {
   "cell_type": "code",
   "execution_count": 25,
   "metadata": {},
   "outputs": [
    {
     "data": {
      "text/html": [
       "<div>\n",
       "<style scoped>\n",
       "    .dataframe tbody tr th:only-of-type {\n",
       "        vertical-align: middle;\n",
       "    }\n",
       "\n",
       "    .dataframe tbody tr th {\n",
       "        vertical-align: top;\n",
       "    }\n",
       "\n",
       "    .dataframe thead th {\n",
       "        text-align: right;\n",
       "    }\n",
       "</style>\n",
       "<table border=\"1\" class=\"dataframe\">\n",
       "  <thead>\n",
       "    <tr style=\"text-align: right;\">\n",
       "      <th></th>\n",
       "      <th>First</th>\n",
       "      <th>Second</th>\n",
       "      <th>Third</th>\n",
       "    </tr>\n",
       "  </thead>\n",
       "  <tbody>\n",
       "    <tr>\n",
       "      <th>1</th>\n",
       "      <td>2</td>\n",
       "      <td>2</td>\n",
       "      <td>2</td>\n",
       "    </tr>\n",
       "    <tr>\n",
       "      <th>2</th>\n",
       "      <td>3</td>\n",
       "      <td>3</td>\n",
       "      <td>3</td>\n",
       "    </tr>\n",
       "    <tr>\n",
       "      <th>3</th>\n",
       "      <td>4</td>\n",
       "      <td>4</td>\n",
       "      <td>4</td>\n",
       "    </tr>\n",
       "    <tr>\n",
       "      <th>4</th>\n",
       "      <td>5</td>\n",
       "      <td>5</td>\n",
       "      <td>5</td>\n",
       "    </tr>\n",
       "  </tbody>\n",
       "</table>\n",
       "</div>"
      ],
      "text/plain": [
       "  First  Second  Third\n",
       "1     2       2      2\n",
       "2     3       3      3\n",
       "3     4       4      4\n",
       "4     5       5      5"
      ]
     },
     "execution_count": 25,
     "metadata": {},
     "output_type": "execute_result"
    }
   ],
   "source": [
    "#csvfile_1.drop(\"First\",axis=1)\n",
    "csvfile_1.drop(0,axis=0)"
   ]
  },
  {
   "cell_type": "code",
   "execution_count": 26,
   "metadata": {},
   "outputs": [],
   "source": [
    "#var.dropna()  removes null values\n",
    "#parameters if needed are axis, how, subset, inplace, thresh\n",
    "#var.fillna()  fills null values \n",
    "#parameters if needed are axis, inplace, limit, method = \"ffill\"/\"bfill\""
   ]
  },
  {
   "cell_type": "code",
   "execution_count": 28,
   "metadata": {},
   "outputs": [
    {
     "name": "stdout",
     "output_type": "stream",
     "text": [
      "   First  Second  Third\n",
      "0      1       1      1\n",
      "1      2       2      2\n",
      "2      3       3      3\n",
      "3      4       4      4\n",
      "4      5       5      5\n"
     ]
    }
   ],
   "source": [
    "csvfile_2 = pd.read_csv(\"D:\\\\Data Analytst\\pandas\\\\text_new1.csv\")\n",
    "print(csvfile_2)"
   ]
  },
  {
   "cell_type": "code",
   "execution_count": 36,
   "metadata": {},
   "outputs": [
    {
     "name": "stderr",
     "output_type": "stream",
     "text": [
      "C:\\Users\\Riddhi\\AppData\\Local\\Temp\\ipykernel_2440\\255218746.py:1: FutureWarning: The 'limit' keyword in DataFrame.replace is deprecated and will be removed in a future version.\n",
      "  csvfile_2.replace(to_replace=3, value=13, limit=1)\n"
     ]
    },
    {
     "data": {
      "text/html": [
       "<div>\n",
       "<style scoped>\n",
       "    .dataframe tbody tr th:only-of-type {\n",
       "        vertical-align: middle;\n",
       "    }\n",
       "\n",
       "    .dataframe tbody tr th {\n",
       "        vertical-align: top;\n",
       "    }\n",
       "\n",
       "    .dataframe thead th {\n",
       "        text-align: right;\n",
       "    }\n",
       "</style>\n",
       "<table border=\"1\" class=\"dataframe\">\n",
       "  <thead>\n",
       "    <tr style=\"text-align: right;\">\n",
       "      <th></th>\n",
       "      <th>First</th>\n",
       "      <th>Second</th>\n",
       "      <th>Third</th>\n",
       "    </tr>\n",
       "  </thead>\n",
       "  <tbody>\n",
       "    <tr>\n",
       "      <th>0</th>\n",
       "      <td>1</td>\n",
       "      <td>1</td>\n",
       "      <td>1</td>\n",
       "    </tr>\n",
       "    <tr>\n",
       "      <th>1</th>\n",
       "      <td>2</td>\n",
       "      <td>2</td>\n",
       "      <td>2</td>\n",
       "    </tr>\n",
       "    <tr>\n",
       "      <th>2</th>\n",
       "      <td>13</td>\n",
       "      <td>13</td>\n",
       "      <td>13</td>\n",
       "    </tr>\n",
       "    <tr>\n",
       "      <th>3</th>\n",
       "      <td>4</td>\n",
       "      <td>4</td>\n",
       "      <td>4</td>\n",
       "    </tr>\n",
       "    <tr>\n",
       "      <th>4</th>\n",
       "      <td>5</td>\n",
       "      <td>5</td>\n",
       "      <td>5</td>\n",
       "    </tr>\n",
       "  </tbody>\n",
       "</table>\n",
       "</div>"
      ],
      "text/plain": [
       "   First  Second  Third\n",
       "0      1       1      1\n",
       "1      2       2      2\n",
       "2     13      13     13\n",
       "3      4       4      4\n",
       "4      5       5      5"
      ]
     },
     "execution_count": 36,
     "metadata": {},
     "output_type": "execute_result"
    }
   ],
   "source": [
    "csvfile_2.replace(to_replace=3, value=13)\n",
    "#csvfile_2.replace([\"A-Z\"], \"python\", regex = True)  now we don't have alphabets"
   ]
  },
  {
   "cell_type": "code",
   "execution_count": 35,
   "metadata": {},
   "outputs": [
    {
     "name": "stderr",
     "output_type": "stream",
     "text": [
      "C:\\Users\\Riddhi\\AppData\\Local\\Temp\\ipykernel_2440\\3266704615.py:1: FutureWarning: The 'method' keyword in DataFrame.replace is deprecated and will be removed in a future version.\n",
      "  csvfile_2.replace(13,method=\"bfill\" ,limit=1)\n"
     ]
    },
    {
     "data": {
      "text/html": [
       "<div>\n",
       "<style scoped>\n",
       "    .dataframe tbody tr th:only-of-type {\n",
       "        vertical-align: middle;\n",
       "    }\n",
       "\n",
       "    .dataframe tbody tr th {\n",
       "        vertical-align: top;\n",
       "    }\n",
       "\n",
       "    .dataframe thead th {\n",
       "        text-align: right;\n",
       "    }\n",
       "</style>\n",
       "<table border=\"1\" class=\"dataframe\">\n",
       "  <thead>\n",
       "    <tr style=\"text-align: right;\">\n",
       "      <th></th>\n",
       "      <th>First</th>\n",
       "      <th>Second</th>\n",
       "      <th>Third</th>\n",
       "    </tr>\n",
       "  </thead>\n",
       "  <tbody>\n",
       "    <tr>\n",
       "      <th>0</th>\n",
       "      <td>1</td>\n",
       "      <td>1</td>\n",
       "      <td>1</td>\n",
       "    </tr>\n",
       "    <tr>\n",
       "      <th>1</th>\n",
       "      <td>2</td>\n",
       "      <td>2</td>\n",
       "      <td>2</td>\n",
       "    </tr>\n",
       "    <tr>\n",
       "      <th>2</th>\n",
       "      <td>3</td>\n",
       "      <td>3</td>\n",
       "      <td>3</td>\n",
       "    </tr>\n",
       "    <tr>\n",
       "      <th>3</th>\n",
       "      <td>4</td>\n",
       "      <td>4</td>\n",
       "      <td>4</td>\n",
       "    </tr>\n",
       "    <tr>\n",
       "      <th>4</th>\n",
       "      <td>5</td>\n",
       "      <td>5</td>\n",
       "      <td>5</td>\n",
       "    </tr>\n",
       "  </tbody>\n",
       "</table>\n",
       "</div>"
      ],
      "text/plain": [
       "   First  Second  Third\n",
       "0      1       1      1\n",
       "1      2       2      2\n",
       "2      3       3      3\n",
       "3      4       4      4\n",
       "4      5       5      5"
      ]
     },
     "execution_count": 35,
     "metadata": {},
     "output_type": "execute_result"
    }
   ],
   "source": [
    "csvfile_2.replace(13,method=\"bfill\" ,limit=1) #achese kam kyu nhi karra pata nhi"
   ]
  },
  {
   "cell_type": "code",
   "execution_count": null,
   "metadata": {},
   "outputs": [],
   "source": [
    "#var.interpolate() replace null values automatically\n",
    "#it works only with numbers and not with alphabets"
   ]
  }
 ],
 "metadata": {
  "kernelspec": {
   "display_name": "Python 3",
   "language": "python",
   "name": "python3"
  },
  "language_info": {
   "codemirror_mode": {
    "name": "ipython",
    "version": 3
   },
   "file_extension": ".py",
   "mimetype": "text/x-python",
   "name": "python",
   "nbconvert_exporter": "python",
   "pygments_lexer": "ipython3",
   "version": "3.11.3"
  }
 },
 "nbformat": 4,
 "nbformat_minor": 2
}
